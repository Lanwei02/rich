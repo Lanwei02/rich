{
 "cells": [
  {
   "cell_type": "code",
   "execution_count": 2,
   "metadata": {
    "scrolled": true
   },
   "outputs": [
    {
     "name": "stderr",
     "output_type": "stream",
     "text": [
      "Parsed with column specification:\n",
      "cols(\n",
      "  name = col_character(),\n",
      "  lng = col_double(),\n",
      "  lat = col_double()\n",
      ")\n",
      "Assuming \"lng\" and \"lat\" are longitude and latitude, respectively\n"
     ]
    }
   ],
   "source": [
    "# use leaflet maps in jupyter notebooks (November 2018)\n",
    "\n",
    "# load packages\n",
    "library(leaflet)\n",
    "library(tidyverse)  \n",
    "\n",
    "# load data on all four year colleges in America from github repo\n",
    "colleges <- read_csv(\"https://raw.githubusercontent.com/majerus/NEDRA2018/master/four_year_colleges_2017.csv\")\n",
    "\n",
    "# create leaflet map of all four year American colleges \n",
    " colleges  %>%\n",
    "  # filter out colleges with missing coordinates\n",
    "  filter(!is.na(lng))  %>%  \n",
    "  leaflet() %>%\n",
    "    # add OSM default map tiles\n",
    "    addTiles() %>%  \n",
    "    # center map on Colby College \n",
    "    setView(-69.66337,44.564211, 9)  %>% \n",
    "    # add a circle for each college with a popup for name\n",
    "    addCircleMarkers(radius = 2, popup = ~name)"
   ]
  },
  {
   "cell_type": "code",
   "execution_count": null,
   "metadata": {},
   "outputs": [],
   "source": []
  }
 ],
 "metadata": {
  "kernelspec": {
   "display_name": "R",
   "language": "R",
   "name": "ir"
  },
  "language_info": {
   "codemirror_mode": "r",
   "file_extension": ".r",
   "mimetype": "text/x-r-source",
   "name": "R",
   "pygments_lexer": "r",
   "version": "3.5.0"
  },
  "widgets": {
   "application/vnd.jupyter.widget-state+json": {
    "state": {},
    "version_major": 2,
    "version_minor": 0
   }
  }
 },
 "nbformat": 4,
 "nbformat_minor": 2
}
